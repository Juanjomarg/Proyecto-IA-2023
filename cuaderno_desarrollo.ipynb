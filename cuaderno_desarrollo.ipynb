{
 "cells": [
  {
   "cell_type": "code",
   "execution_count": 8,
   "metadata": {},
   "outputs": [
    {
     "data": {
      "text/plain": [
       "'\\n# Descomentar la línea de arriba para no tener que correr esto siempre\\n!pip3 install numpy\\n!pip3 install pandas\\n!pip3 install matplotlib\\n!pip3 install dash\\n!pip3 install dash-bootstrap-components\\n!pip3 install scikit-learn\\n!pip install --upgrade pip\\n#'"
      ]
     },
     "execution_count": 8,
     "metadata": {},
     "output_type": "execute_result"
    }
   ],
   "source": [
    "'''\n",
    "# Descomentar la línea de arriba para no tener que correr esto siempre\n",
    "!pip3 install numpy\n",
    "!pip3 install pandas\n",
    "!pip3 install matplotlib\n",
    "!pip3 install dash\n",
    "!pip3 install dash-bootstrap-components\n",
    "!pip3 install scikit-learn\n",
    "!pip install --upgrade pip\n",
    "#'''"
   ]
  },
  {
   "cell_type": "code",
   "execution_count": 9,
   "metadata": {},
   "outputs": [],
   "source": [
    "import numpy as np\n",
    "import pandas as pd"
   ]
  }
 ],
 "metadata": {
  "kernelspec": {
   "display_name": "daily",
   "language": "python",
   "name": "python3"
  },
  "language_info": {
   "codemirror_mode": {
    "name": "ipython",
    "version": 3
   },
   "file_extension": ".py",
   "mimetype": "text/x-python",
   "name": "python",
   "nbconvert_exporter": "python",
   "pygments_lexer": "ipython3",
   "version": "3.11.3"
  },
  "orig_nbformat": 4
 },
 "nbformat": 4,
 "nbformat_minor": 2
}
